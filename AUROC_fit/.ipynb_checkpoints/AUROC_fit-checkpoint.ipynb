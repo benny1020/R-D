{
 "cells": [
  {
   "cell_type": "code",
   "execution_count": 52,
   "metadata": {},
   "outputs": [],
   "source": [
    "import numpy as np\n",
    "import pandas as pd\n",
    "from scipy.stats import gmean"
   ]
  },
  {
   "cell_type": "code",
   "execution_count": 1,
   "metadata": {},
   "outputs": [
    {
     "ename": "IndentationError",
     "evalue": "expected an indented block (<ipython-input-1-fdd8f252dd74>, line 9)",
     "output_type": "error",
     "traceback": [
      "\u001b[0;36m  File \u001b[0;32m\"<ipython-input-1-fdd8f252dd74>\"\u001b[0;36m, line \u001b[0;32m9\u001b[0m\n\u001b[0;31m    dataset = pd.read_excel('AUROC2.xlsm')\u001b[0m\n\u001b[0m    ^\u001b[0m\n\u001b[0;31mIndentationError\u001b[0m\u001b[0;31m:\u001b[0m expected an indented block\n"
     ]
    }
   ],
   "source": [
    "learning_rate = 0.01\n",
    "n_estimators = 20\n",
    "\n",
    "optimal_estm_weights = []\n",
    "estm_weights = []\n",
    "\n",
    "for i in range(n_estimators):\n",
    "    estm_weights.append(1/n_estimators)\n",
    "    optimal_estm_weights.append(1/n_estimators)\n",
    "    \n",
    "estm_weights = np.array(estm_weights)\n",
    "optimal_estm_weights = np.array(optimal_estm_weights)\n",
    "\n",
    "\n",
    "dataset = pd.read_excel('AUROC2.xlsm')\n",
    "#print(dataset)\n",
    "gun = dataset.iloc[:450, 0:n_estimators]\n",
    "gun = np.array(gun.T)\n",
    "\n",
    "budo = dataset.iloc[450:900,0:n_estimators]\n",
    "budo = np.array(budo.T)\n"
   ]
  },
  {
   "cell_type": "code",
   "execution_count": 76,
   "metadata": {},
   "outputs": [
    {
     "name": "stdout",
     "output_type": "stream",
     "text": [
      "[[0.50220859 0.50236094 0.5019266  ... 0.50185323 0.50216568 0.50285816]\n",
      " [0.49537215 0.49472237 0.4947449  ... 0.49486187 0.49502686 0.49496177]\n",
      " [0.45386615 0.45405877 0.45400971 ... 0.45386949 0.45384601 0.45431969]\n",
      " ...\n",
      " [0.49229145 0.49217805 0.48315245 ... 0.48521048 0.48285347 0.49152872]\n",
      " [0.49032211 0.50120348 0.49699017 ... 0.5003373  0.50000012 0.51128811]\n",
      " [0.50609666 0.50688213 0.50298542 ... 0.50444549 0.50493479 0.50705332]]\n",
      "(20, 450)\n"
     ]
    }
   ],
   "source": [
    "print(gun)\n",
    "print(gun.shape)"
   ]
  },
  {
   "cell_type": "code",
   "execution_count": 77,
   "metadata": {},
   "outputs": [
    {
     "name": "stdout",
     "output_type": "stream",
     "text": [
      "[[0.50153798 0.50135702 0.50205857 ... 0.50088894 0.50252247 0.50107229]\n",
      " [0.49362063 0.49399036 0.49161088 ... 0.4942582  0.49000463 0.49319759]\n",
      " [0.45406434 0.45393777 0.45425135 ... 0.45347884 0.45405167 0.45384243]\n",
      " ...\n",
      " [0.47749516 0.47672468 0.45331639 ... 0.47633749 0.43429482 0.47107586]\n",
      " [0.51577365 0.50290102 0.51708353 ... 0.50393701 0.52833641 0.51540893]\n",
      " [0.50202525 0.49906784 0.49234241 ... 0.49490327 0.49266657 0.49624893]]\n",
      "(20, 450)\n"
     ]
    }
   ],
   "source": [
    "print(budo)\n",
    "print(budo.shape)"
   ]
  },
  {
   "cell_type": "code",
   "execution_count": 78,
   "metadata": {},
   "outputs": [],
   "source": [
    "budo_average=np.zeros((n_estimators,1))\n",
    "gun_average=np.zeros((n_estimators,1))\n",
    "for i in range(n_estimators):\n",
    "    gun_average[i]=gmean(gun[i,:])\n",
    "    \n",
    "for i in range(n_estimators):\n",
    "    budo_average[i]=gmean(budo[i,:])"
   ]
  },
  {
   "cell_type": "code",
   "execution_count": 79,
   "metadata": {},
   "outputs": [
    {
     "name": "stdout",
     "output_type": "stream",
     "text": [
      "(20, 1)\n",
      "[[0.50218796]\n",
      " [0.49495195]\n",
      " [0.45384717]\n",
      " [0.51235194]\n",
      " [0.49395173]\n",
      " [0.51149594]\n",
      " [0.49224729]\n",
      " [0.50006735]\n",
      " [0.51882146]\n",
      " [0.51109589]\n",
      " [0.49810048]\n",
      " [0.47937232]\n",
      " [0.48834347]\n",
      " [0.500816  ]\n",
      " [0.50046075]\n",
      " [0.51790672]\n",
      " [0.49506866]\n",
      " [0.48638573]\n",
      " [0.50316417]\n",
      " [0.50484687]]\n"
     ]
    }
   ],
   "source": [
    "print(gun_average.shape)\n",
    "print(gun_average)"
   ]
  },
  {
   "cell_type": "code",
   "execution_count": 80,
   "metadata": {},
   "outputs": [
    {
     "name": "stdout",
     "output_type": "stream",
     "text": [
      "(20, 1)\n",
      "[[0.5015329 ]\n",
      " [0.49344472]\n",
      " [0.45381774]\n",
      " [0.52557847]\n",
      " [0.50325942]\n",
      " [0.51800526]\n",
      " [0.49305149]\n",
      " [0.50334066]\n",
      " [0.52680416]\n",
      " [0.51126276]\n",
      " [0.4951513 ]\n",
      " [0.48407963]\n",
      " [0.51044003]\n",
      " [0.52183702]\n",
      " [0.49918732]\n",
      " [0.51620218]\n",
      " [0.49596745]\n",
      " [0.47385022]\n",
      " [0.51277367]\n",
      " [0.49885851]]\n"
     ]
    }
   ],
   "source": [
    "print(budo_average.shape)\n",
    "print(budo_average)"
   ]
  },
  {
   "cell_type": "code",
   "execution_count": null,
   "metadata": {},
   "outputs": [],
   "source": []
  }
 ],
 "metadata": {
  "kernelspec": {
   "display_name": "Python 3",
   "language": "python",
   "name": "python3"
  },
  "language_info": {
   "codemirror_mode": {
    "name": "ipython",
    "version": 3
   },
   "file_extension": ".py",
   "mimetype": "text/x-python",
   "name": "python",
   "nbconvert_exporter": "python",
   "pygments_lexer": "ipython3",
   "version": "3.8.5"
  }
 },
 "nbformat": 4,
 "nbformat_minor": 4
}
